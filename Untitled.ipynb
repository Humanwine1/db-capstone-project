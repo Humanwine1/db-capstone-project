{
 "cells": [
  {
   "cell_type": "code",
   "execution_count": 24,
   "id": "f8820819",
   "metadata": {},
   "outputs": [],
   "source": [
    "import mysql.connector as connector"
   ]
  },
  {
   "cell_type": "code",
   "execution_count": 25,
   "id": "e204bea9",
   "metadata": {},
   "outputs": [],
   "source": [
    "connection = connector.connect(user = \"root\", password= \"Punkstat1kParanoia\", db = \"LittleLemonDB\")"
   ]
  },
  {
   "cell_type": "code",
   "execution_count": 26,
   "id": "d5684c31",
   "metadata": {},
   "outputs": [],
   "source": [
    "cursor = connection.cursor()"
   ]
  },
  {
   "cell_type": "code",
   "execution_count": 27,
   "id": "520eed81",
   "metadata": {},
   "outputs": [
    {
     "name": "stdout",
     "output_type": "stream",
     "text": [
      "[('bookings',), ('customerdetails',), ('employee_salaries',), ('employees',), ('menuitems',), ('orderdeliverystatus',), ('orders',), ('ordersquantity',), ('ordersview',)]\n"
     ]
    }
   ],
   "source": [
    "show_tables_query = \"SHOW tables\" \n",
    "cursor.execute(show_tables_query)\n",
    "results = cursor.fetchall()\n",
    "print(results)"
   ]
  },
  {
   "cell_type": "code",
   "execution_count": 28,
   "id": "a91451df",
   "metadata": {},
   "outputs": [
    {
     "name": "stdout",
     "output_type": "stream",
     "text": [
      "[('Anna Iversen', Decimal('75')), ('Joakim Iversen', Decimal('225')), ('Vanessa McCarthy', Decimal('175')), ('Hiroki Yamane', Decimal('150'))]\n"
     ]
    }
   ],
   "source": [
    "promo_query = \"\"\"\n",
    "SELECT CONCAT(CustomerDetails.GuestFirstName, \" \", CustomerDetails.GuestLastName), Orders.TotalCost\n",
    "FROM CustomerDetails INNER JOIN Orders\n",
    "ON CustomerDetails.CustomerID = Orders.CustomerID\n",
    "WHERE TotalCost > 60;\n",
    "\"\"\"\n",
    "cursor.execute(promo_query)\n",
    "results = cursor.fetchall()\n",
    "print(results)"
   ]
  },
  {
   "cell_type": "code",
   "execution_count": null,
   "id": "e771d339",
   "metadata": {},
   "outputs": [],
   "source": []
  },
  {
   "cell_type": "code",
   "execution_count": null,
   "id": "8985ad41",
   "metadata": {},
   "outputs": [],
   "source": []
  }
 ],
 "metadata": {
  "kernelspec": {
   "display_name": "Python 3 (ipykernel)",
   "language": "python",
   "name": "python3"
  },
  "language_info": {
   "codemirror_mode": {
    "name": "ipython",
    "version": 3
   },
   "file_extension": ".py",
   "mimetype": "text/x-python",
   "name": "python",
   "nbconvert_exporter": "python",
   "pygments_lexer": "ipython3",
   "version": "3.11.2"
  }
 },
 "nbformat": 4,
 "nbformat_minor": 5
}
